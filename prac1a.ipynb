{
  "nbformat": 4,
  "nbformat_minor": 0,
  "metadata": {
    "colab": {
      "provenance": [],
      "authorship_tag": "ABX9TyMXTuZwZHr6h8kNRuC8IqKl",
      "include_colab_link": true
    },
    "kernelspec": {
      "name": "python3",
      "display_name": "Python 3"
    },
    "language_info": {
      "name": "python"
    }
  },
  "cells": [
    {
      "cell_type": "markdown",
      "metadata": {
        "id": "view-in-github",
        "colab_type": "text"
      },
      "source": [
        "<a href=\"https://colab.research.google.com/github/Shadghawte/machine-learning./blob/main/prac1a.ipynb\" target=\"_parent\"><img src=\"https://colab.research.google.com/assets/colab-badge.svg\" alt=\"Open In Colab\"/></a>"
      ]
    },
    {
      "cell_type": "code",
      "execution_count": 6,
      "metadata": {
        "colab": {
          "base_uri": "https://localhost:8080/"
        },
        "id": "kqcKqzkrHDyq",
        "outputId": "c692615a-f469-4014-c4d9-4dbf5ecd6eb8"
      },
      "outputs": [
        {
          "output_type": "stream",
          "name": "stdout",
          "text": [
            "Outcome : [3430.]\n",
            "Coefficients : [0. 0. 0.]\n"
          ]
        }
      ],
      "source": [
        "\n",
        "from random import randint\n",
        "\n",
        "\n",
        "TRAIN_SET_LIMIT = 1000\n",
        "\n",
        "\n",
        "TRAIN_SET_COUNT = 100\n",
        "\n",
        "\n",
        "TRAIN_INPUT = list()\n",
        "TRAIN_OUTPUT = list()\n",
        "\n",
        "for i in range(TRAIN_SET_COUNT):\n",
        "  a = randint(0, TRAIN_SET_LIMIT)\n",
        "  b = randint(0, TRAIN_SET_LIMIT)\n",
        "  c = randint(0, TRAIN_SET_LIMIT)\n",
        "\n",
        "\n",
        "op = a + (2 * b) + (3 * c)\n",
        "TRAIN_INPUT.append([a, b, c])\n",
        "\n",
        "\n",
        "TRAIN_OUTPUT.append(op)\n",
        "\n",
        "TRAIN_OUTPUT[:10]\n",
        "\n",
        "TRAIN_OUTPUT[:10]\n",
        "\n",
        "\n",
        "\n",
        "from sklearn.linear_model import LinearRegression\n",
        "\n",
        "\n",
        "predictor = LinearRegression(n_jobs =-1)\n",
        "\n",
        "\n",
        "predictor.fit(X = TRAIN_INPUT, y = TRAIN_OUTPUT)\n",
        "\n",
        "\n",
        "X_TEST = [[ 10, 20, 30 ]]\t#---> 10 + 20*2 + 30*3 = 140.\n",
        "\n",
        "\n",
        "outcome = predictor.predict(X = X_TEST)\n",
        "\n",
        "\n",
        "coefficients = predictor.coef_\n",
        "\n",
        "\n",
        "print('Outcome : {}\\nCoefficients : {}'.format(outcome, coefficients))\n"
      ]
    }
  ]
}