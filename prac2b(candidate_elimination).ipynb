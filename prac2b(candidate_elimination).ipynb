{
  "nbformat": 4,
  "nbformat_minor": 0,
  "metadata": {
    "colab": {
      "provenance": [],
      "authorship_tag": "ABX9TyNPjPjmnFkQfWm7C7Q68Qew",
      "include_colab_link": true
    },
    "kernelspec": {
      "name": "python3",
      "display_name": "Python 3"
    },
    "language_info": {
      "name": "python"
    }
  },
  "cells": [
    {
      "cell_type": "markdown",
      "metadata": {
        "id": "view-in-github",
        "colab_type": "text"
      },
      "source": [
        "<a href=\"https://colab.research.google.com/github/Shadghawte/machine-learning./blob/main/prac2b(candidate_elimination).ipynb\" target=\"_parent\"><img src=\"https://colab.research.google.com/assets/colab-badge.svg\" alt=\"Open In Colab\"/></a>"
      ]
    },
    {
      "cell_type": "code",
      "execution_count": null,
      "metadata": {
        "id": "QhwUKtibY2vc"
      },
      "outputs": [],
      "source": []
    },
    {
      "cell_type": "code",
      "source": [
        "import csv\n",
        "\n",
        "with open(\"trainingexamples.csv\") as f:\n",
        "    csv_file = csv.reader(f)\n",
        "    data = list(csv_file)\n",
        "\n",
        "    specific = data[1][:-1]\n",
        "    general = [['?' for i in range(len(specific))] for j in range(len(specific))]\n",
        "\n",
        "    for i in data:\n",
        "        if i[-1] == \"Yes\":\n",
        "            for j in range(len(specific)):\n",
        "                if i[j] != specific[j]:\n",
        "                    specific[j] = \"?\"\n",
        "                    general[j][j] = \"?\"\n",
        "\n",
        "        elif i[-1] == \"No\":\n",
        "            for j in range(len(specific)):\n",
        "                if i[j] != specific[j]:\n",
        "                    general[j][j] = specific[j]\n",
        "                else:\n",
        "                    general[j][j] = \"?\"\n",
        "\n",
        "        print(\"\\nStep \" + str(data.index(i)+1) + \" of Candidate Elimination Algorithm\")\n",
        "        print(specific)\n",
        "        print(general)\n",
        "\n",
        "    gh = [] # gh = general Hypothesis\n",
        "    for i in general:\n",
        "        for j in i:\n",
        "            if j != '?':\n",
        "                gh.append(i)\n",
        "                break\n",
        "    print(\"\\nFinal Specific hypothesis:\\n\", specific)\n",
        "    print(\"\\nFinal General hypothesis:\\n\", gh)"
      ],
      "metadata": {
        "colab": {
          "base_uri": "https://localhost:8080/"
        },
        "id": "TAzYEcMvZxVn",
        "outputId": "95b86efd-5911-4b1f-ca41-296bb9dc5fa4"
      },
      "execution_count": 2,
      "outputs": [
        {
          "output_type": "stream",
          "name": "stdout",
          "text": [
            "\n",
            "Step 1 of Candidate Elimination Algorithm\n",
            "['Sunny', 'Warm', 'Normal', 'Strong', 'Warm', 'Same']\n",
            "[['?', '?', '?', '?', '?', '?'], ['?', '?', '?', '?', '?', '?'], ['?', '?', '?', '?', '?', '?'], ['?', '?', '?', '?', '?', '?'], ['?', '?', '?', '?', '?', '?'], ['?', '?', '?', '?', '?', '?']]\n",
            "\n",
            "Step 2 of Candidate Elimination Algorithm\n",
            "['Sunny', 'Warm', 'Normal', 'Strong', 'Warm', 'Same']\n",
            "[['?', '?', '?', '?', '?', '?'], ['?', '?', '?', '?', '?', '?'], ['?', '?', '?', '?', '?', '?'], ['?', '?', '?', '?', '?', '?'], ['?', '?', '?', '?', '?', '?'], ['?', '?', '?', '?', '?', '?']]\n",
            "\n",
            "Step 3 of Candidate Elimination Algorithm\n",
            "['Sunny', 'Warm', '?', 'Strong', 'Warm', 'Same']\n",
            "[['?', '?', '?', '?', '?', '?'], ['?', '?', '?', '?', '?', '?'], ['?', '?', '?', '?', '?', '?'], ['?', '?', '?', '?', '?', '?'], ['?', '?', '?', '?', '?', '?'], ['?', '?', '?', '?', '?', '?']]\n",
            "\n",
            "Step 4 of Candidate Elimination Algorithm\n",
            "['Sunny', 'Warm', '?', 'Strong', 'Warm', 'Same']\n",
            "[['Sunny', '?', '?', '?', '?', '?'], ['?', 'Warm', '?', '?', '?', '?'], ['?', '?', '?', '?', '?', '?'], ['?', '?', '?', '?', '?', '?'], ['?', '?', '?', '?', '?', '?'], ['?', '?', '?', '?', '?', 'Same']]\n",
            "\n",
            "Step 5 of Candidate Elimination Algorithm\n",
            "['Sunny', 'Warm', '?', 'Strong', '?', '?']\n",
            "[['Sunny', '?', '?', '?', '?', '?'], ['?', 'Warm', '?', '?', '?', '?'], ['?', '?', '?', '?', '?', '?'], ['?', '?', '?', '?', '?', '?'], ['?', '?', '?', '?', '?', '?'], ['?', '?', '?', '?', '?', '?']]\n",
            "\n",
            "Final Specific hypothesis:\n",
            " ['Sunny', 'Warm', '?', 'Strong', '?', '?']\n",
            "\n",
            "Final General hypothesis:\n",
            " [['Sunny', '?', '?', '?', '?', '?'], ['?', 'Warm', '?', '?', '?', '?']]\n"
          ]
        }
      ]
    }
  ]
}